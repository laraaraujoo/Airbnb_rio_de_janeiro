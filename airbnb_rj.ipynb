{
  "nbformat": 4,
  "nbformat_minor": 0,
  "metadata": {
    "colab": {
      "provenance": [],
      "authorship_tag": "ABX9TyPp+g7Qevx2dwnozvpjQvnn",
      "include_colab_link": true
    },
    "kernelspec": {
      "name": "python3",
      "display_name": "Python 3"
    },
    "language_info": {
      "name": "python"
    }
  },
  "cells": [
    {
      "cell_type": "markdown",
      "metadata": {
        "id": "view-in-github",
        "colab_type": "text"
      },
      "source": [
        "<a href=\"https://colab.research.google.com/github/laraaraujoo/Airbnb_rio_de_janeiro/blob/main/airbnb_rj.ipynb\" target=\"_parent\"><img src=\"https://colab.research.google.com/assets/colab-badge.svg\" alt=\"Open In Colab\"/></a>"
      ]
    },
    {
      "cell_type": "markdown",
      "source": [
        "### **Objetivo de cada arquivo .py :**\n",
        "\n",
        "*   docs.py, baixa o arquivo\n",
        "*   load.py, limpeza dos dados\n",
        "*   transform.py, manipulação\n",
        "*   model_teste.py, conjunto de dados para treino\n",
        "*   proj_finish.py, insight, gráficos, perguntas e respostas.\n",
        "\n",
        "Dentro de cada arquivo tem as informações detalhadas.\n",
        "\n",
        "\n"
      ],
      "metadata": {
        "id": "z8H66q2a7h6X"
      }
    }
  ]
}